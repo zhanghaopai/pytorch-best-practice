{
 "cells": [
  {
   "cell_type": "code",
   "execution_count": 1,
   "metadata": {},
   "outputs": [
    {
     "name": "stdout",
     "output_type": "stream",
     "text": [
      "2.2.1\n"
     ]
    }
   ],
   "source": [
    "# pytorch版本\n",
    "import torch\n",
    "print(torch.__version__)"
   ]
  },
  {
   "cell_type": "markdown",
   "metadata": {},
   "source": [
    "# torch.mul\n",
    "> torch.mul(a, b)：对位相乘，可以广播\n",
    "\n",
    "该函数可以处理两种情况\n",
    "1. a是向量，b是标量\n",
    "2. a、b都是向量，对位相乘，可以广播"
   ]
  },
  {
   "cell_type": "code",
   "execution_count": 7,
   "metadata": {},
   "outputs": [
    {
     "name": "stdout",
     "output_type": "stream",
     "text": [
      "tensor([ 4, 10, 18])\n",
      "tensor([[ 4, 10, 18],\n",
      "        [16, 25, 36]])\n"
     ]
    }
   ],
   "source": [
    "# 对位相成\n",
    "a=torch.tensor([1,2,3])\n",
    "b=torch.tensor([4,5,6])\n",
    "print(torch.mul(a, b))\n",
    "\n",
    "c=torch.tensor([[1,2,3],[4,5,6]])\n",
    "d=torch.tensor([[4,5,6]])\n",
    "print(torch.mul(c,d))"
   ]
  },
  {
   "cell_type": "markdown",
   "metadata": {},
   "source": [
    "# torch.mm\n",
    "> 处理二维矩阵乘法，而且只能处理二维矩阵乘法，其他维度需要用torch.matmul"
   ]
  },
  {
   "cell_type": "code",
   "execution_count": 11,
   "metadata": {},
   "outputs": [
    {
     "name": "stdout",
     "output_type": "stream",
     "text": [
      "torch.Size([64, 10])\n"
     ]
    }
   ],
   "source": [
    "mat1=torch.randn(64,786)\n",
    "mat2=torch.randn(786,10)\n",
    "result=torch.mm(mat1, mat2)\n",
    "print(result.shape)"
   ]
  },
  {
   "cell_type": "markdown",
   "metadata": {},
   "source": [
    "# torch.bmm\n",
    "> 加上了batch计算，不能广播\n",
    "\n",
    "mat1和mat2的第一个维度为batch size，必须一致"
   ]
  },
  {
   "cell_type": "code",
   "execution_count": 17,
   "metadata": {},
   "outputs": [
    {
     "name": "stdout",
     "output_type": "stream",
     "text": [
      "torch.Size([64, 28, 10])\n"
     ]
    }
   ],
   "source": [
    "mat1=torch.randn(64, 28, 32)\n",
    "mat2=torch.randn(64, 32, 10)\n",
    "result=torch.bmm(mat1, mat2)\n",
    "print(result.shape)"
   ]
  },
  {
   "cell_type": "markdown",
   "metadata": {},
   "source": [
    "# torch.matmul\n",
    "> 适用范围最广，能处理batch计算，能广播"
   ]
  },
  {
   "cell_type": "code",
   "execution_count": 21,
   "metadata": {},
   "outputs": [
    {
     "name": "stdout",
     "output_type": "stream",
     "text": [
      "tensor(32)\n",
      "torch.Size([])\n"
     ]
    }
   ],
   "source": [
    "# 向量1*向量2，则对位相乘并相加，结果是标量\n",
    "tensor1=torch.tensor([1,2,3])\n",
    "tensor2=torch.tensor([4,5,6])\n",
    "\n",
    "result=torch.matmul(tensor1, tensor2)\n",
    "print(result)\n",
    "print(result.shape)"
   ]
  },
  {
   "cell_type": "code",
   "execution_count": 24,
   "metadata": {},
   "outputs": [
    {
     "name": "stdout",
     "output_type": "stream",
     "text": [
      "torch.Size([3, 5])\n"
     ]
    }
   ],
   "source": [
    "# 矩阵*矩阵\n",
    "tensor1=torch.randn(3, 4)\n",
    "tensor2=torch.randn(4, 5)\n",
    "result=torch.matmul(tensor1, tensor2)\n",
    "print(result.shape)"
   ]
  },
  {
   "cell_type": "code",
   "execution_count": 23,
   "metadata": {},
   "outputs": [
    {
     "name": "stdout",
     "output_type": "stream",
     "text": [
      "torch.Size([10, 3, 5])\n"
     ]
    }
   ],
   "source": [
    "# batch矩阵*batch矩阵\n",
    "tensor1=torch.randn(10, 3, 4)\n",
    "tensor2=torch.randn(10, 4, 5)\n",
    "result=torch.matmul(tensor1, tensor2)\n",
    "print(result.shape)"
   ]
  },
  {
   "cell_type": "code",
   "execution_count": 26,
   "metadata": {},
   "outputs": [
    {
     "name": "stdout",
     "output_type": "stream",
     "text": [
      "torch.Size([2, 3])\n",
      "torch.Size([3])\n",
      "torch.Size([2])\n",
      "tensor([ 50, 122])\n"
     ]
    }
   ],
   "source": [
    "# 广播\n",
    "## 矩阵*向量\n",
    "tensor1=torch.tensor([ [1,2,3], [4,5,6] ])\n",
    "tensor2=torch.tensor([7,8,9])\n",
    "result=torch.matmul(tensor1, tensor2)\n",
    "print(tensor1.shape)\n",
    "print(tensor2.shape)\n",
    "print(result.shape)\n",
    "print(result)"
   ]
  },
  {
   "cell_type": "code",
   "execution_count": 27,
   "metadata": {},
   "outputs": [
    {
     "name": "stdout",
     "output_type": "stream",
     "text": [
      "torch.Size([10, 3])\n"
     ]
    }
   ],
   "source": [
    "# batch广播\n",
    "## batch矩阵*向量\n",
    "tensor1=torch.randn(10, 3, 4)\n",
    "tensor2=torch.randn(4)\n",
    "result=torch.matmul(tensor1, tensor2)\n",
    "print(result.shape)"
   ]
  }
 ],
 "metadata": {
  "kernelspec": {
   "display_name": "Python 3",
   "language": "python",
   "name": "python3"
  },
  "language_info": {
   "codemirror_mode": {
    "name": "ipython",
    "version": 3
   },
   "file_extension": ".py",
   "mimetype": "text/x-python",
   "name": "python",
   "nbconvert_exporter": "python",
   "pygments_lexer": "ipython3",
   "version": "3.11.5"
  }
 },
 "nbformat": 4,
 "nbformat_minor": 2
}
