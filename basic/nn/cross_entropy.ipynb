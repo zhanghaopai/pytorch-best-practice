{
 "cells": [
  {
   "cell_type": "code",
   "execution_count": 8,
   "metadata": {},
   "outputs": [
    {
     "name": "stdout",
     "output_type": "stream",
     "text": [
      "tensor([0.0900, 0.2447, 0.6652])\n"
     ]
    }
   ],
   "source": [
    "import torch\n",
    "import torch.nn.functional as F\n",
    "\n",
    "a = torch.tensor([1.0,2.0,3.0])\n",
    "print(F.softmax(a, dim=0))"
   ]
  },
  {
   "cell_type": "code",
   "execution_count": 5,
   "metadata": {},
   "outputs": [
    {
     "name": "stdout",
     "output_type": "stream",
     "text": [
      "torch.Size([512, 10])\n",
      "torch.Size([512])\n",
      "tensor([[ 1.1140, -0.4069,  1.2951,  ..., -0.2472,  0.7132, -1.3320],\n",
      "        [ 0.4793, -1.5179,  0.9556,  ..., -1.8850, -1.3842, -0.2288],\n",
      "        [ 1.0833,  0.7231,  0.1847,  ..., -0.4455,  0.2826, -1.8619],\n",
      "        ...,\n",
      "        [-0.5907,  0.5266, -0.0057,  ..., -1.0302, -1.1344, -0.1192],\n",
      "        [-0.4514, -1.1279,  0.5506,  ..., -0.4486, -0.6987, -0.8888],\n",
      "        [ 0.9572, -0.3570, -2.0741,  ..., -0.1473, -1.1519, -0.2951]],\n",
      "       requires_grad=True)\n",
      "tensor([9, 2, 5, 3, 9, 6, 9, 7, 8, 8, 5, 9, 5, 4, 6, 7, 4, 1, 3, 4, 2, 9, 4, 0,\n",
      "        9, 3, 4, 8, 1, 0, 0, 5, 0, 5, 2, 0, 1, 5, 3, 9, 9, 4, 3, 4, 6, 0, 5, 1,\n",
      "        5, 2, 2, 1, 2, 1, 0, 4, 2, 3, 4, 6, 1, 2, 7, 4, 3, 8, 6, 0, 0, 5, 2, 5,\n",
      "        8, 9, 5, 4, 1, 9, 2, 3, 4, 9, 5, 6, 8, 5, 8, 7, 4, 5, 3, 4, 1, 3, 3, 4,\n",
      "        3, 6, 0, 8, 0, 3, 7, 5, 1, 7, 4, 0, 0, 2, 3, 3, 7, 9, 5, 0, 5, 5, 4, 0,\n",
      "        5, 6, 6, 7, 7, 3, 0, 1, 5, 2, 5, 6, 0, 8, 4, 3, 3, 5, 8, 6, 9, 3, 6, 5,\n",
      "        7, 8, 2, 2, 9, 1, 5, 8, 6, 0, 2, 7, 8, 0, 7, 2, 4, 3, 8, 7, 7, 5, 2, 3,\n",
      "        5, 0, 7, 4, 8, 2, 2, 3, 3, 9, 2, 8, 4, 5, 7, 9, 2, 7, 3, 6, 1, 8, 8, 6,\n",
      "        1, 0, 4, 9, 7, 4, 8, 5, 1, 7, 0, 0, 8, 0, 3, 6, 0, 9, 1, 9, 4, 0, 1, 2,\n",
      "        3, 1, 9, 1, 8, 9, 9, 9, 9, 3, 0, 5, 3, 9, 4, 0, 8, 2, 0, 2, 9, 7, 6, 7,\n",
      "        9, 6, 9, 8, 7, 9, 6, 7, 1, 1, 6, 9, 2, 5, 3, 8, 4, 3, 0, 2, 0, 9, 6, 4,\n",
      "        5, 9, 3, 0, 4, 3, 5, 1, 2, 9, 0, 8, 0, 3, 6, 0, 7, 0, 0, 0, 0, 0, 7, 3,\n",
      "        1, 7, 0, 9, 8, 4, 0, 0, 9, 0, 9, 2, 6, 2, 0, 7, 9, 8, 4, 9, 8, 5, 8, 6,\n",
      "        6, 6, 2, 6, 8, 8, 5, 7, 6, 8, 9, 8, 0, 9, 3, 1, 9, 6, 1, 2, 6, 8, 0, 1,\n",
      "        5, 3, 9, 2, 2, 0, 2, 2, 7, 3, 2, 7, 2, 5, 8, 2, 6, 1, 0, 0, 2, 5, 3, 2,\n",
      "        8, 0, 1, 0, 5, 6, 8, 3, 7, 2, 0, 6, 3, 4, 2, 7, 7, 6, 0, 5, 3, 6, 6, 5,\n",
      "        9, 6, 0, 8, 8, 7, 6, 2, 0, 4, 2, 3, 1, 1, 6, 8, 3, 8, 2, 9, 4, 0, 1, 1,\n",
      "        9, 0, 0, 0, 2, 4, 4, 6, 3, 4, 5, 7, 9, 0, 7, 5, 9, 0, 2, 6, 7, 1, 5, 3,\n",
      "        2, 5, 7, 0, 4, 9, 6, 7, 6, 6, 9, 9, 0, 6, 9, 5, 8, 9, 4, 6, 5, 7, 9, 5,\n",
      "        7, 5, 8, 6, 4, 8, 7, 9, 1, 0, 2, 8, 5, 5, 0, 3, 1, 6, 2, 3, 1, 8, 0, 5,\n",
      "        0, 8, 0, 4, 5, 6, 8, 5, 9, 6, 5, 5, 7, 1, 0, 6, 7, 8, 9, 3, 4, 0, 8, 0,\n",
      "        9, 5, 2, 3, 7, 3, 9, 9])\n",
      "2.7839927673339844\n"
     ]
    }
   ],
   "source": [
    "import torch\n",
    "import torch.nn as nn\n",
    "\n",
    "nn_output = torch.randn(512, 10, requires_grad=True)\n",
    "labels = torch.randint(0, 10, (512, ))\n",
    "\n",
    "print(nn_output.shape)\n",
    "print(labels.shape)\n",
    "print(nn_output)\n",
    "print(labels)\n",
    "\n",
    "criterion = nn.CrossEntropyLoss()\n",
    "loss = criterion(nn_output, labels)\n",
    "\n",
    "print(loss.item())"
   ]
  },
  {
   "cell_type": "code",
   "execution_count": 13,
   "metadata": {},
   "outputs": [
    {
     "name": "stdout",
     "output_type": "stream",
     "text": [
      "torch.Size([2, 5])\n",
      "torch.Size([2])\n"
     ]
    },
    {
     "ename": "IndexError",
     "evalue": "Target 5 is out of bounds.",
     "output_type": "error",
     "traceback": [
      "\u001b[0;31m---------------------------------------------------------------------------\u001b[0m",
      "\u001b[0;31mIndexError\u001b[0m                                Traceback (most recent call last)",
      "Cell \u001b[0;32mIn[13], line 10\u001b[0m\n\u001b[1;32m      7\u001b[0m \u001b[38;5;28mprint\u001b[39m(\u001b[38;5;28minput\u001b[39m\u001b[38;5;241m.\u001b[39mshape)\n\u001b[1;32m      8\u001b[0m \u001b[38;5;28mprint\u001b[39m(target\u001b[38;5;241m.\u001b[39mshape)\n\u001b[0;32m---> 10\u001b[0m \u001b[43mcriterion\u001b[49m\u001b[43m(\u001b[49m\u001b[38;5;28;43minput\u001b[39;49m\u001b[43m,\u001b[49m\u001b[43m \u001b[49m\u001b[43mtarget\u001b[49m\u001b[43m)\u001b[49m\n",
      "File \u001b[0;32m/Library/Frameworks/Python.framework/Versions/3.11/lib/python3.11/site-packages/torch/nn/modules/module.py:1511\u001b[0m, in \u001b[0;36mModule._wrapped_call_impl\u001b[0;34m(self, *args, **kwargs)\u001b[0m\n\u001b[1;32m   1509\u001b[0m     \u001b[38;5;28;01mreturn\u001b[39;00m \u001b[38;5;28mself\u001b[39m\u001b[38;5;241m.\u001b[39m_compiled_call_impl(\u001b[38;5;241m*\u001b[39margs, \u001b[38;5;241m*\u001b[39m\u001b[38;5;241m*\u001b[39mkwargs)  \u001b[38;5;66;03m# type: ignore[misc]\u001b[39;00m\n\u001b[1;32m   1510\u001b[0m \u001b[38;5;28;01melse\u001b[39;00m:\n\u001b[0;32m-> 1511\u001b[0m     \u001b[38;5;28;01mreturn\u001b[39;00m \u001b[38;5;28;43mself\u001b[39;49m\u001b[38;5;241;43m.\u001b[39;49m\u001b[43m_call_impl\u001b[49m\u001b[43m(\u001b[49m\u001b[38;5;241;43m*\u001b[39;49m\u001b[43margs\u001b[49m\u001b[43m,\u001b[49m\u001b[43m \u001b[49m\u001b[38;5;241;43m*\u001b[39;49m\u001b[38;5;241;43m*\u001b[39;49m\u001b[43mkwargs\u001b[49m\u001b[43m)\u001b[49m\n",
      "File \u001b[0;32m/Library/Frameworks/Python.framework/Versions/3.11/lib/python3.11/site-packages/torch/nn/modules/module.py:1520\u001b[0m, in \u001b[0;36mModule._call_impl\u001b[0;34m(self, *args, **kwargs)\u001b[0m\n\u001b[1;32m   1515\u001b[0m \u001b[38;5;66;03m# If we don't have any hooks, we want to skip the rest of the logic in\u001b[39;00m\n\u001b[1;32m   1516\u001b[0m \u001b[38;5;66;03m# this function, and just call forward.\u001b[39;00m\n\u001b[1;32m   1517\u001b[0m \u001b[38;5;28;01mif\u001b[39;00m \u001b[38;5;129;01mnot\u001b[39;00m (\u001b[38;5;28mself\u001b[39m\u001b[38;5;241m.\u001b[39m_backward_hooks \u001b[38;5;129;01mor\u001b[39;00m \u001b[38;5;28mself\u001b[39m\u001b[38;5;241m.\u001b[39m_backward_pre_hooks \u001b[38;5;129;01mor\u001b[39;00m \u001b[38;5;28mself\u001b[39m\u001b[38;5;241m.\u001b[39m_forward_hooks \u001b[38;5;129;01mor\u001b[39;00m \u001b[38;5;28mself\u001b[39m\u001b[38;5;241m.\u001b[39m_forward_pre_hooks\n\u001b[1;32m   1518\u001b[0m         \u001b[38;5;129;01mor\u001b[39;00m _global_backward_pre_hooks \u001b[38;5;129;01mor\u001b[39;00m _global_backward_hooks\n\u001b[1;32m   1519\u001b[0m         \u001b[38;5;129;01mor\u001b[39;00m _global_forward_hooks \u001b[38;5;129;01mor\u001b[39;00m _global_forward_pre_hooks):\n\u001b[0;32m-> 1520\u001b[0m     \u001b[38;5;28;01mreturn\u001b[39;00m \u001b[43mforward_call\u001b[49m\u001b[43m(\u001b[49m\u001b[38;5;241;43m*\u001b[39;49m\u001b[43margs\u001b[49m\u001b[43m,\u001b[49m\u001b[43m \u001b[49m\u001b[38;5;241;43m*\u001b[39;49m\u001b[38;5;241;43m*\u001b[39;49m\u001b[43mkwargs\u001b[49m\u001b[43m)\u001b[49m\n\u001b[1;32m   1522\u001b[0m \u001b[38;5;28;01mtry\u001b[39;00m:\n\u001b[1;32m   1523\u001b[0m     result \u001b[38;5;241m=\u001b[39m \u001b[38;5;28;01mNone\u001b[39;00m\n",
      "File \u001b[0;32m/Library/Frameworks/Python.framework/Versions/3.11/lib/python3.11/site-packages/torch/nn/modules/loss.py:1179\u001b[0m, in \u001b[0;36mCrossEntropyLoss.forward\u001b[0;34m(self, input, target)\u001b[0m\n\u001b[1;32m   1178\u001b[0m \u001b[38;5;28;01mdef\u001b[39;00m \u001b[38;5;21mforward\u001b[39m(\u001b[38;5;28mself\u001b[39m, \u001b[38;5;28minput\u001b[39m: Tensor, target: Tensor) \u001b[38;5;241m-\u001b[39m\u001b[38;5;241m>\u001b[39m Tensor:\n\u001b[0;32m-> 1179\u001b[0m     \u001b[38;5;28;01mreturn\u001b[39;00m \u001b[43mF\u001b[49m\u001b[38;5;241;43m.\u001b[39;49m\u001b[43mcross_entropy\u001b[49m\u001b[43m(\u001b[49m\u001b[38;5;28;43minput\u001b[39;49m\u001b[43m,\u001b[49m\u001b[43m \u001b[49m\u001b[43mtarget\u001b[49m\u001b[43m,\u001b[49m\u001b[43m \u001b[49m\u001b[43mweight\u001b[49m\u001b[38;5;241;43m=\u001b[39;49m\u001b[38;5;28;43mself\u001b[39;49m\u001b[38;5;241;43m.\u001b[39;49m\u001b[43mweight\u001b[49m\u001b[43m,\u001b[49m\n\u001b[1;32m   1180\u001b[0m \u001b[43m                           \u001b[49m\u001b[43mignore_index\u001b[49m\u001b[38;5;241;43m=\u001b[39;49m\u001b[38;5;28;43mself\u001b[39;49m\u001b[38;5;241;43m.\u001b[39;49m\u001b[43mignore_index\u001b[49m\u001b[43m,\u001b[49m\u001b[43m \u001b[49m\u001b[43mreduction\u001b[49m\u001b[38;5;241;43m=\u001b[39;49m\u001b[38;5;28;43mself\u001b[39;49m\u001b[38;5;241;43m.\u001b[39;49m\u001b[43mreduction\u001b[49m\u001b[43m,\u001b[49m\n\u001b[1;32m   1181\u001b[0m \u001b[43m                           \u001b[49m\u001b[43mlabel_smoothing\u001b[49m\u001b[38;5;241;43m=\u001b[39;49m\u001b[38;5;28;43mself\u001b[39;49m\u001b[38;5;241;43m.\u001b[39;49m\u001b[43mlabel_smoothing\u001b[49m\u001b[43m)\u001b[49m\n",
      "File \u001b[0;32m/Library/Frameworks/Python.framework/Versions/3.11/lib/python3.11/site-packages/torch/nn/functional.py:3059\u001b[0m, in \u001b[0;36mcross_entropy\u001b[0;34m(input, target, weight, size_average, ignore_index, reduce, reduction, label_smoothing)\u001b[0m\n\u001b[1;32m   3057\u001b[0m \u001b[38;5;28;01mif\u001b[39;00m size_average \u001b[38;5;129;01mis\u001b[39;00m \u001b[38;5;129;01mnot\u001b[39;00m \u001b[38;5;28;01mNone\u001b[39;00m \u001b[38;5;129;01mor\u001b[39;00m reduce \u001b[38;5;129;01mis\u001b[39;00m \u001b[38;5;129;01mnot\u001b[39;00m \u001b[38;5;28;01mNone\u001b[39;00m:\n\u001b[1;32m   3058\u001b[0m     reduction \u001b[38;5;241m=\u001b[39m _Reduction\u001b[38;5;241m.\u001b[39mlegacy_get_string(size_average, reduce)\n\u001b[0;32m-> 3059\u001b[0m \u001b[38;5;28;01mreturn\u001b[39;00m \u001b[43mtorch\u001b[49m\u001b[38;5;241;43m.\u001b[39;49m\u001b[43m_C\u001b[49m\u001b[38;5;241;43m.\u001b[39;49m\u001b[43m_nn\u001b[49m\u001b[38;5;241;43m.\u001b[39;49m\u001b[43mcross_entropy_loss\u001b[49m\u001b[43m(\u001b[49m\u001b[38;5;28;43minput\u001b[39;49m\u001b[43m,\u001b[49m\u001b[43m \u001b[49m\u001b[43mtarget\u001b[49m\u001b[43m,\u001b[49m\u001b[43m \u001b[49m\u001b[43mweight\u001b[49m\u001b[43m,\u001b[49m\u001b[43m \u001b[49m\u001b[43m_Reduction\u001b[49m\u001b[38;5;241;43m.\u001b[39;49m\u001b[43mget_enum\u001b[49m\u001b[43m(\u001b[49m\u001b[43mreduction\u001b[49m\u001b[43m)\u001b[49m\u001b[43m,\u001b[49m\u001b[43m \u001b[49m\u001b[43mignore_index\u001b[49m\u001b[43m,\u001b[49m\u001b[43m \u001b[49m\u001b[43mlabel_smoothing\u001b[49m\u001b[43m)\u001b[49m\n",
      "\u001b[0;31mIndexError\u001b[0m: Target 5 is out of bounds."
     ]
    }
   ],
   "source": [
    "import torch\n",
    "\n",
    "criterion = torch.nn.CrossEntropyLoss()\n",
    "input = torch.tensor([[1, 2, 3, 4, 5], [5, 6, 7, 8, 6]], dtype=torch.float)\n",
    "target = torch.tensor([0, 5], dtype=torch.long)\n",
    "\n",
    "print(input.shape)\n",
    "print(target.shape)\n",
    "\n",
    "criterion(input, target)"
   ]
  }
 ],
 "metadata": {
  "kernelspec": {
   "display_name": "Python 3",
   "language": "python",
   "name": "python3"
  },
  "language_info": {
   "codemirror_mode": {
    "name": "ipython",
    "version": 3
   },
   "file_extension": ".py",
   "mimetype": "text/x-python",
   "name": "python",
   "nbconvert_exporter": "python",
   "pygments_lexer": "ipython3",
   "version": "3.11.5"
  }
 },
 "nbformat": 4,
 "nbformat_minor": 2
}
