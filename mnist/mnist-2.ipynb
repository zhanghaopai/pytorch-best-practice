{
 "cells": [
  {
   "cell_type": "markdown",
   "metadata": {},
   "source": [
    "# 数据集准备及预处理"
   ]
  },
  {
   "cell_type": "code",
   "execution_count": 1,
   "metadata": {},
   "outputs": [
    {
     "name": "stdout",
     "output_type": "stream",
     "text": [
      "1.13.1+cpu\n"
     ]
    }
   ],
   "source": [
    "import torch\n",
    "print(torch.__version__)"
   ]
  },
  {
   "cell_type": "code",
   "execution_count": 2,
   "metadata": {},
   "outputs": [
    {
     "name": "stderr",
     "output_type": "stream",
     "text": [
      "train-images-idx3-ubyte.gz已经存在.\n",
      "train-labels-idx1-ubyte.gz已经存在.\n",
      "t10k-images-idx3-ubyte.gz已经存在.\n",
      "t10k-labels-idx1-ubyte.gz已经存在.\n"
     ]
    },
    {
     "data": {
      "text/plain": [
       "True"
      ]
     },
     "execution_count": 2,
     "metadata": {},
     "output_type": "execute_result"
    }
   ],
   "source": [
    "\"\"\"\n",
    "下载MNIST数据集脚本\n",
    "\"\"\"\n",
    "\n",
    "import os\n",
    "from pathlib import Path\n",
    "import logging\n",
    "\n",
    "import wget\n",
    "\n",
    "logging.basicConfig(level=logging.INFO, format=\"%(message)s\")\n",
    "\n",
    "\n",
    "def download_minst(save_dir: str = None) -> bool:\n",
    "    \"\"\"下载MNIST数据集\n",
    "    输入参数:\n",
    "        save_dir: MNIST数据集的保存地址. 类型: 字符串.\n",
    "\n",
    "    返回值:\n",
    "        全部下载成功返回True, 否则返回False\n",
    "    \"\"\"\n",
    "    \n",
    "    save_dir = Path(save_dir)\n",
    "    train_set_imgs_addr = save_dir / \"train-images-idx3-ubyte.gz\"\n",
    "    train_set_labels_addr = save_dir / \"train-labels-idx1-ubyte.gz\"\n",
    "    test_set_imgs_addr = save_dir / \"t10k-images-idx3-ubyte.gz\"\n",
    "    test_set_labels_addr = save_dir / \"t10k-labels-idx1-ubyte.gz\"\n",
    "\n",
    "    try:\n",
    "        if not os.path.exists(train_set_imgs_addr):\n",
    "            logging.info(\"下载train-images-idx3-ubyte.gz\")\n",
    "            filename = wget.download(url=\"http://yann.lecun.com/exdb/mnist/train-images-idx3-ubyte.gz\", out=str(train_set_imgs_addr))\n",
    "            logging.info(\"\\tdone.\")\n",
    "        else:\n",
    "            logging.info(\"train-images-idx3-ubyte.gz已经存在.\")\n",
    "\n",
    "        if not os.path.exists(train_set_labels_addr):\n",
    "            logging.info(\"下载train-labels-idx1-ubyte.gz.\")\n",
    "            filename = wget.download(url=\"http://yann.lecun.com/exdb/mnist/train-labels-idx1-ubyte.gz\", out=str(train_set_labels_addr))\n",
    "            logging.info(\"\\tdone.\")\n",
    "        else:\n",
    "            logging.info(\"train-labels-idx1-ubyte.gz已经存在.\")\n",
    "\n",
    "        if not os.path.exists(test_set_imgs_addr):\n",
    "            logging.info(\"下载t10k-images-idx3-ubyte.gz.\")\n",
    "            filename = wget.download(url=\"http://yann.lecun.com/exdb/mnist/t10k-images-idx3-ubyte.gz\", out=str(test_set_imgs_addr))\n",
    "            logging.info(\"\\tdone.\")\n",
    "        else:\n",
    "            logging.info(\"t10k-images-idx3-ubyte.gz已经存在.\")\n",
    "\n",
    "        if not os.path.exists(test_set_labels_addr):\n",
    "            logging.info(\"下载t10k-labels-idx1-ubyte.gz.\")\n",
    "            filename = wget.download(url=\"http://yann.lecun.com/exdb/mnist/t10k-labels-idx1-ubyte.gz\", out=str(test_set_labels_addr))\n",
    "            logging.info(\"\\tdone.\")\n",
    "        else:\n",
    "            logging.info(\"t10k-labels-idx1-ubyte.gz已经存在.\")\n",
    "        \n",
    "    except:\n",
    "        return False\n",
    "    \n",
    "    return True\n",
    "\n",
    "\n",
    "download_minst('./input')\n",
    "\n"
   ]
  },
  {
   "cell_type": "code",
   "execution_count": 3,
   "metadata": {},
   "outputs": [
    {
     "data": {
      "image/png": "[encoded data removed]",
      "text/plain": [
       "<Figure size 648x720 with 9 Axes>"
      ]
     },
     "metadata": {
      "needs_background": "light"
     },
     "output_type": "display_data"
    }
   ],
   "source": [
    "\"\"\"\n",
    "通过gzip和numpy解析MNIST数据集的二进制文件, 并可视化训练集前10张图片和标签\n",
    "\"\"\"\n",
    "\n",
    "import os\n",
    "import gzip\n",
    "import logging\n",
    "\n",
    "import numpy as np\n",
    "import matplotlib.pyplot as plt\n",
    "\n",
    "logging.basicConfig(format=\"%(message)s\", level=logging.DEBUG)  # 设置Python日志管理工具的消息格式和显示级别\n",
    "\n",
    "plt.rcParams[\"font.sans-serif\"] = \"SimHei\"  # 确保plt绘图正常显示中文\n",
    "plt.rcParams[\"figure.figsize\"] = [9, 10]  # 设置plt绘图尺寸\n",
    "\n",
    "def parse_mnist(minst_file_addr: str = None) -> np.array:\n",
    "    \"\"\"解析MNIST二进制文件, 并返回解析结果\n",
    "    输入参数:\n",
    "        minst_file: MNIST数据集的文件地址. 类型: 字符串.\n",
    "\n",
    "    返回值:\n",
    "        解析后的numpy数组\n",
    "    \"\"\"\n",
    "    if minst_file_addr is not None:\n",
    "        minst_file_name = os.path.basename(minst_file_addr)  # 根据地址获取MNIST文件名字\n",
    "        with gzip.open(filename=minst_file_addr, mode=\"rb\") as minst_file:\n",
    "            mnist_file_content = minst_file.read()\n",
    "        if \"label\" in minst_file_name:  # 传入的为标签二进制编码文件地址\n",
    "            data = np.frombuffer(buffer=mnist_file_content, dtype=np.uint8, offset=8)  # MNIST标签文件的前8个字节为描述性内容，直接从第九个字节开始读取标签，并解析\n",
    "        else:  # 传入的为图片二进制编码文件地址\n",
    "            data = np.frombuffer(buffer=mnist_file_content, dtype=np.uint8, offset=16)  # MNIST图片文件的前16个字节为描述性内容，直接从第九个字节开始读取标签，并解析\n",
    "            data = data.reshape(-1, 28, 28)\n",
    "    else:\n",
    "        logging.warning(msg=\"请传入MNIST文件地址!\")\n",
    "\n",
    "    return data\n",
    "\n",
    "\n",
    "if __name__ == \"__main__\":\n",
    "    train_imgs = parse_mnist(minst_file_addr=\"./input/train-images-idx3-ubyte.gz\")  # 训练集图像\n",
    "    train_labels = parse_mnist(minst_file_addr=\"./input/train-labels-idx1-ubyte.gz\")  # 训练集标签\n",
    "    \n",
    "    # 可视化\n",
    "    fig, ax = plt.subplots(ncols=3, nrows=3)\n",
    "    ax[0, 0].imshow(train_imgs[0], cmap=plt.cm.gray)\n",
    "    ax[0, 0].set_title(f\"标签为{train_labels[0]}\")\n",
    "    ax[0, 1].imshow(train_imgs[1], cmap=plt.cm.gray)\n",
    "    ax[0, 1].set_title(f\"标签为{train_labels[1]}\")\n",
    "    ax[0, 2].imshow(train_imgs[2], cmap=plt.cm.gray)\n",
    "    ax[0, 2].set_title(f\"标签为{train_labels[2]}\")\n",
    "    ax[1, 0].imshow(train_imgs[3], cmap=plt.cm.gray)\n",
    "    ax[1, 0].set_title(f\"标签为{train_labels[3]}\")\n",
    "    ax[1, 1].imshow(train_imgs[4], cmap=plt.cm.gray)\n",
    "    ax[1, 1].set_title(f\"标签为{train_labels[4]}\")\n",
    "    ax[1, 2].imshow(train_imgs[5], cmap=plt.cm.gray)\n",
    "    ax[1, 2].set_title(f\"标签为{train_labels[5]}\")\n",
    "    ax[2, 0].imshow(train_imgs[6], cmap=plt.cm.gray)\n",
    "    ax[2, 0].set_title(f\"标签为{train_labels[6]}\")\n",
    "    ax[2, 1].imshow(train_imgs[7], cmap=plt.cm.gray)\n",
    "    ax[2, 1].set_title(f\"标签为{train_labels[7]}\")\n",
    "    ax[2, 2].imshow(train_imgs[8], cmap=plt.cm.gray)\n",
    "    ax[2, 2].set_title(f\"标签为{train_labels[8]}\")\n",
    "    plt.show()  # 显示绘图\n",
    "\n",
    "    # print(plt.rcParams.keys())\n",
    "\n"
   ]
  },
  {
   "cell_type": "code",
   "execution_count": 4,
   "metadata": {},
   "outputs": [
    {
     "name": "stdout",
     "output_type": "stream",
     "text": [
      "(60000, 28, 28)\n",
      "(60000,)\n",
      "[[  0   0   0   0   0   0   0   0   0   0   0   0   0   0   0   0   0   0\n",
      "    0   0   0   0   0   0   0   0   0   0]\n",
      " [  0   0   0   0   0   0   0   0   0   0   0   0   0   0   0   0   0   0\n",
      "    0   0   0   0   0   0   0   0   0   0]\n",
      " [  0   0   0   0   0   0   0   0   0   0   0   0   0   0   0   0   0   0\n",
      "    0   0   0   0   0   0   0   0   0   0]\n",
      " [  0   0   0   0   0   0   0   0   0   0   0   0   0   0   0   0   0   0\n",
      "    0   0   0   0   0   0   0   0   0   0]\n",
      " [  0   0   0   0   0   0   0   0   0   0   0   0   0   0   0   0   0   0\n",
      "    0   0   0   0   0   0   0   0   0   0]\n",
      " [  0   0   0   0   0   0   0   0   0   0   0   0   3  18  18  18 126 136\n",
      "  175  26 166 255 247 127   0   0   0   0]\n",
      " [  0   0   0   0   0   0   0   0  30  36  94 154 170 253 253 253 253 253\n",
      "  225 172 253 242 195  64   0   0   0   0]\n",
      " [  0   0   0   0   0   0   0  49 238 253 253 253 253 253 253 253 253 251\n",
      "   93  82  82  56  39   0   0   0   0   0]\n",
      " [  0   0   0   0   0   0   0  18 219 253 253 253 253 253 198 182 247 241\n",
      "    0   0   0   0   0   0   0   0   0   0]\n",
      " [  0   0   0   0   0   0   0   0  80 156 107 253 253 205  11   0  43 154\n",
      "    0   0   0   0   0   0   0   0   0   0]\n",
      " [  0   0   0   0   0   0   0   0   0  14   1 154 253  90   0   0   0   0\n",
      "    0   0   0   0   0   0   0   0   0   0]\n",
      " [  0   0   0   0   0   0   0   0   0   0   0 139 253 190   2   0   0   0\n",
      "    0   0   0   0   0   0   0   0   0   0]\n",
      " [  0   0   0   0   0   0   0   0   0   0   0  11 190 253  70   0   0   0\n",
      "    0   0   0   0   0   0   0   0   0   0]\n",
      " [  0   0   0   0   0   0   0   0   0   0   0   0  35 241 225 160 108   1\n",
      "    0   0   0   0   0   0   0   0   0   0]\n",
      " [  0   0   0   0   0   0   0   0   0   0   0   0   0  81 240 253 253 119\n",
      "   25   0   0   0   0   0   0   0   0   0]\n",
      " [  0   0   0   0   0   0   0   0   0   0   0   0   0   0  45 186 253 253\n",
      "  150  27   0   0   0   0   0   0   0   0]\n",
      " [  0   0   0   0   0   0   0   0   0   0   0   0   0   0   0  16  93 252\n",
      "  253 187   0   0   0   0   0   0   0   0]\n",
      " [  0   0   0   0   0   0   0   0   0   0   0   0   0   0   0   0   0 249\n",
      "  253 249  64   0   0   0   0   0   0   0]\n",
      " [  0   0   0   0   0   0   0   0   0   0   0   0   0   0  46 130 183 253\n",
      "  253 207   2   0   0   0   0   0   0   0]\n",
      " [  0   0   0   0   0   0   0   0   0   0   0   0  39 148 229 253 253 253\n",
      "  250 182   0   0   0   0   0   0   0   0]\n",
      " [  0   0   0   0   0   0   0   0   0   0  24 114 221 253 253 253 253 201\n",
      "   78   0   0   0   0   0   0   0   0   0]\n",
      " [  0   0   0   0   0   0   0   0  23  66 213 253 253 253 253 198  81   2\n",
      "    0   0   0   0   0   0   0   0   0   0]\n",
      " [  0   0   0   0   0   0  18 171 219 253 253 253 253 195  80   9   0   0\n",
      "    0   0   0   0   0   0   0   0   0   0]\n",
      " [  0   0   0   0  55 172 226 253 253 253 253 244 133  11   0   0   0   0\n",
      "    0   0   0   0   0   0   0   0   0   0]\n",
      " [  0   0   0   0 136 253 253 253 212 135 132  16   0   0   0   0   0   0\n",
      "    0   0   0   0   0   0   0   0   0   0]\n",
      " [  0   0   0   0   0   0   0   0   0   0   0   0   0   0   0   0   0   0\n",
      "    0   0   0   0   0   0   0   0   0   0]\n",
      " [  0   0   0   0   0   0   0   0   0   0   0   0   0   0   0   0   0   0\n",
      "    0   0   0   0   0   0   0   0   0   0]\n",
      " [  0   0   0   0   0   0   0   0   0   0   0   0   0   0   0   0   0   0\n",
      "    0   0   0   0   0   0   0   0   0   0]]\n"
     ]
    }
   ],
   "source": [
    "print(train_imgs.shape)\n",
    "print(train_labels.shape)\n",
    "print(train_imgs[0])"
   ]
  },
  {
   "cell_type": "markdown",
   "metadata": {},
   "source": [
    "# ⭐网络定义"
   ]
  },
  {
   "cell_type": "code",
   "execution_count": 10,
   "metadata": {},
   "outputs": [],
   "source": [
    "from torch import nn\n",
    "import torch.nn.functional as F\n",
    "\n",
    "class Mnist_NN(nn.Module):\n",
    "    def __init__(self):\n",
    "        # super()加括号\n",
    "        super().__init__()\n",
    "        self.hidden1=nn.Linear(784, 128)\n",
    "        self.hidden2=nn.Linear(128, 256)\n",
    "        self.out=nn.Linear(256, 10)\n",
    "        self.dropout=nn.Dropout(0.5)\n",
    "    \n",
    "    def forward(self, x):\n",
    "        x=F.relu(self.hidden1(x))\n",
    "        x=self.dropout(x)\n",
    "        x=F.relu(self.hidden2(x))\n",
    "        x=self.dropout(x)\n",
    "        x=self.out(x)\n",
    "        return x\n",
    "        "
   ]
  },
  {
   "cell_type": "code",
   "execution_count": 11,
   "metadata": {},
   "outputs": [
    {
     "name": "stdout",
     "output_type": "stream",
     "text": [
      "Mnist_NN(\n",
      "  (hidden1): Linear(in_features=784, out_features=128, bias=True)\n",
      "  (hidden2): Linear(in_features=128, out_features=256, bias=True)\n",
      "  (out): Linear(in_features=256, out_features=10, bias=True)\n",
      "  (dropout): Dropout(p=0.5, inplace=False)\n",
      ")\n"
     ]
    }
   ],
   "source": [
    "net = Mnist_NN()\n",
    "print(net)"
   ]
  },
  {
   "cell_type": "code",
   "execution_count": 13,
   "metadata": {},
   "outputs": [
    {
     "name": "stdout",
     "output_type": "stream",
     "text": [
      "hidden1.weight Parameter containing:\n",
      "tensor([[-0.0198, -0.0030,  0.0156,  ...,  0.0002,  0.0280, -0.0288],\n",
      "        [-0.0278, -0.0279, -0.0231,  ..., -0.0197,  0.0142, -0.0141],\n",
      "        [-0.0355,  0.0282,  0.0280,  ...,  0.0111,  0.0305, -0.0334],\n",
      "        ...,\n",
      "        [-0.0057, -0.0008,  0.0322,  ...,  0.0322,  0.0066,  0.0191],\n",
      "        [ 0.0205,  0.0289,  0.0022,  ...,  0.0219,  0.0330,  0.0235],\n",
      "        [ 0.0117, -0.0181,  0.0216,  ...,  0.0131, -0.0186,  0.0055]],\n",
      "       requires_grad=True) torch.Size([128, 784])\n",
      "hidden1.bias Parameter containing:\n",
      "tensor([ 1.3103e-02,  2.8438e-02, -1.0083e-02,  6.3774e-03,  2.3302e-05,\n",
      "        -3.1514e-02,  2.4512e-02,  2.0390e-02, -1.2503e-02,  3.4174e-03,\n",
      "        -2.2131e-02, -5.7559e-03, -2.9135e-02,  1.1883e-02,  8.1765e-03,\n",
      "         3.3970e-02,  1.1341e-02, -1.4695e-02, -1.5308e-02, -1.7665e-03,\n",
      "        -1.1653e-03, -1.6147e-02, -3.3864e-02, -2.4299e-02, -3.2299e-02,\n",
      "         2.5596e-02,  1.0792e-02, -2.9264e-02,  3.3947e-02,  1.1794e-02,\n",
      "         7.1318e-03, -2.7505e-02, -9.7339e-03,  3.4844e-02, -2.2226e-02,\n",
      "         2.5900e-03,  1.9257e-02,  1.4154e-02,  2.6341e-02, -1.4463e-02,\n",
      "        -1.9253e-02, -2.5393e-02,  1.0383e-02, -2.0084e-02, -1.4687e-02,\n",
      "         3.1503e-02, -1.7124e-02, -2.9489e-03,  3.2227e-02,  1.5565e-02,\n",
      "        -2.6446e-02, -3.3013e-02, -3.0487e-02, -2.1259e-02, -3.1636e-02,\n",
      "         1.5006e-02, -2.6996e-02,  1.6883e-02,  8.3227e-03,  2.4326e-02,\n",
      "        -1.5962e-02,  1.4720e-02,  3.0439e-03,  3.4866e-02, -2.7862e-02,\n",
      "        -8.6289e-05,  9.9142e-03,  2.3787e-02, -1.3951e-02,  2.3752e-02,\n",
      "        -1.5776e-02,  3.3132e-02,  1.3246e-02, -1.5515e-02,  7.7631e-04,\n",
      "         9.6252e-03, -2.4824e-02,  3.2638e-02,  4.9165e-03,  2.7397e-02,\n",
      "         6.1196e-03, -1.4261e-02, -3.2496e-02, -1.2823e-02,  1.5204e-02,\n",
      "        -3.5381e-03,  5.8431e-03, -3.4140e-02, -1.3552e-02,  2.5449e-02,\n",
      "        -2.3724e-02, -2.5494e-02,  3.4575e-02, -2.4047e-02,  2.7179e-02,\n",
      "        -3.3022e-02, -2.7867e-02, -2.7831e-02, -2.9488e-02,  4.4058e-03,\n",
      "        -5.4512e-03,  2.6714e-02, -3.2020e-02, -1.6562e-02, -2.8621e-02,\n",
      "         1.5836e-02, -4.5062e-03,  1.2466e-02, -2.1969e-02,  4.1597e-03,\n",
      "        -3.9454e-03,  1.5133e-02,  2.8129e-02,  1.7990e-02, -8.7556e-03,\n",
      "         3.3597e-02,  2.4590e-02, -8.1170e-03,  2.0970e-02,  3.4362e-02,\n",
      "         2.6066e-02, -1.2332e-02,  1.9505e-02, -1.8049e-02,  3.0594e-02,\n",
      "        -2.0620e-03, -1.1183e-02,  3.2114e-02], requires_grad=True) torch.Size([128])\n",
      "hidden2.weight Parameter containing:\n",
      "tensor([[-0.0059,  0.0344, -0.0044,  ..., -0.0084,  0.0607, -0.0370],\n",
      "        [-0.0304,  0.0432, -0.0160,  ...,  0.0623, -0.0387,  0.0455],\n",
      "        [ 0.0069,  0.0550, -0.0731,  ...,  0.0418,  0.0800, -0.0564],\n",
      "        ...,\n",
      "        [ 0.0064,  0.0395, -0.0865,  ...,  0.0830, -0.0128, -0.0755],\n",
      "        [ 0.0824, -0.0880,  0.0135,  ...,  0.0812, -0.0185,  0.0790],\n",
      "        [-0.0864,  0.0034, -0.0809,  ..., -0.0689,  0.0056, -0.0293]],\n",
      "       requires_grad=True) torch.Size([256, 128])\n",
      "hidden2.bias Parameter containing:\n",
      "tensor([ 0.0155, -0.0685,  0.0380, -0.0529,  0.0802, -0.0624, -0.0181,  0.0053,\n",
      "         0.0702,  0.0699,  0.0284, -0.0640,  0.0322, -0.0463, -0.0825, -0.0322,\n",
      "        -0.0430,  0.0150,  0.0346, -0.0828,  0.0878,  0.0023,  0.0471, -0.0288,\n",
      "        -0.0650, -0.0818,  0.0755, -0.0649,  0.0344,  0.0209,  0.0425,  0.0408,\n",
      "         0.0547, -0.0137,  0.0812,  0.0049,  0.0600,  0.0843, -0.0454, -0.0649,\n",
      "         0.0500, -0.0432, -0.0022, -0.0257,  0.0462, -0.0244,  0.0527,  0.0238,\n",
      "         0.0813, -0.0554,  0.0620,  0.0644, -0.0520,  0.0387, -0.0449, -0.0561,\n",
      "         0.0779,  0.0161, -0.0147, -0.0173, -0.0162, -0.0174,  0.0654, -0.0414,\n",
      "         0.0535, -0.0550, -0.0644, -0.0457,  0.0507, -0.0835,  0.0369,  0.0579,\n",
      "        -0.0577, -0.0861, -0.0041,  0.0185,  0.0743,  0.0450,  0.0444,  0.0115,\n",
      "         0.0680,  0.0317,  0.0659, -0.0511,  0.0716,  0.0459, -0.0663, -0.0653,\n",
      "        -0.0800,  0.0077,  0.0754, -0.0645,  0.0602, -0.0088, -0.0394, -0.0546,\n",
      "        -0.0437,  0.0014, -0.0167,  0.0213, -0.0137,  0.0296, -0.0320,  0.0017,\n",
      "         0.0645,  0.0301,  0.0303,  0.0671,  0.0562, -0.0458,  0.0490, -0.0134,\n",
      "        -0.0612, -0.0096,  0.0673,  0.0192, -0.0840,  0.0705,  0.0040, -0.0840,\n",
      "         0.0160,  0.0118,  0.0881,  0.0003, -0.0540, -0.0449,  0.0336, -0.0146,\n",
      "         0.0456, -0.0366,  0.0124,  0.0487,  0.0673,  0.0066,  0.0258, -0.0604,\n",
      "        -0.0008, -0.0521,  0.0094,  0.0827, -0.0433,  0.0406,  0.0840,  0.0768,\n",
      "        -0.0448,  0.0357, -0.0816,  0.0686,  0.0395,  0.0749,  0.0868, -0.0834,\n",
      "         0.0802,  0.0466, -0.0405, -0.0634,  0.0072, -0.0016, -0.0048, -0.0353,\n",
      "         0.0252,  0.0243, -0.0316,  0.0021,  0.0594,  0.0316,  0.0838, -0.0475,\n",
      "        -0.0373, -0.0141, -0.0032, -0.0376,  0.0446,  0.0402, -0.0818, -0.0674,\n",
      "         0.0850, -0.0355,  0.0471,  0.0638,  0.0433,  0.0220, -0.0807, -0.0492,\n",
      "         0.0308, -0.0580, -0.0676, -0.0337,  0.0241,  0.0393,  0.0629,  0.0610,\n",
      "         0.0767, -0.0465, -0.0172,  0.0085,  0.0459, -0.0559, -0.0524, -0.0496,\n",
      "        -0.0393, -0.0336, -0.0174, -0.0517,  0.0723, -0.0008, -0.0106, -0.0386,\n",
      "         0.0639, -0.0735,  0.0238,  0.0820, -0.0842, -0.0859,  0.0607, -0.0045,\n",
      "        -0.0180,  0.0133, -0.0483,  0.0119, -0.0577,  0.0882,  0.0631, -0.0821,\n",
      "         0.0592,  0.0653,  0.0787, -0.0238, -0.0738, -0.0346, -0.0194, -0.0291,\n",
      "        -0.0613,  0.0064,  0.0662, -0.0304, -0.0338, -0.0492, -0.0042, -0.0446,\n",
      "        -0.0568,  0.0351,  0.0088,  0.0426, -0.0502, -0.0705,  0.0057, -0.0621,\n",
      "        -0.0376, -0.0417, -0.0264, -0.0352,  0.0091, -0.0022, -0.0774,  0.0790],\n",
      "       requires_grad=True) torch.Size([256])\n",
      "out.weight Parameter containing:\n",
      "tensor([[-0.0152, -0.0260,  0.0488,  ...,  0.0328, -0.0334, -0.0443],\n",
      "        [ 0.0157, -0.0577,  0.0117,  ..., -0.0438, -0.0032, -0.0005],\n",
      "        [ 0.0444, -0.0533,  0.0584,  ...,  0.0385,  0.0314,  0.0019],\n",
      "        ...,\n",
      "        [ 0.0278, -0.0232, -0.0512,  ...,  0.0229,  0.0054,  0.0073],\n",
      "        [ 0.0373, -0.0242, -0.0011,  ..., -0.0283,  0.0168, -0.0038],\n",
      "        [ 0.0445,  0.0323,  0.0114,  ...,  0.0621, -0.0458,  0.0551]],\n",
      "       requires_grad=True) torch.Size([10, 256])\n",
      "out.bias Parameter containing:\n",
      "tensor([ 0.0223, -0.0455,  0.0057,  0.0294, -0.0428,  0.0529, -0.0490,  0.0619,\n",
      "         0.0083, -0.0472], requires_grad=True) torch.Size([10])\n"
     ]
    }
   ],
   "source": [
    "# 打印网络中的权重和偏置项\n",
    "\n",
    "for name, params in net.named_parameters():\n",
    "    print(name, params, params.shape)"
   ]
  },
  {
   "cell_type": "code",
   "execution_count": null,
   "metadata": {},
   "outputs": [],
   "source": [
    "# 准备数据集\n",
    "from torch.utils.data import TensorDataset\n",
    "from torch.utils.data import DataLoader\n",
    "\n",
    "train_ds = TensorDataset(x_train, y_train)\n",
    "train_dl = DataLoader(train_ds, batch_size=bs, shuffle=True)\n",
    "\n"
   ]
  },
  {
   "cell_type": "markdown",
   "metadata": {},
   "source": [
    "# 训练"
   ]
  },
  {
   "cell_type": "code",
   "execution_count": null,
   "metadata": {},
   "outputs": [],
   "source": [
    "import numpy as np\n",
    "\n",
    "def train(steps, model, loss_func, opt, train_dl, valid_dl):\n",
    "    for step in range(steps):\n",
    "        # 指定model的模式\n",
    "        model.train()\n",
    "        for xb, yb in train_dl:\n",
    "            loss_batch(model, )\n",
    "        # 指定验证模式\n",
    "        model.eval()\n",
    "        # 不更新权重\n",
    "        with torch.no_grad():"
   ]
  }
 ],
 "metadata": {
  "kernelspec": {
   "display_name": "Python 3.8.1 64-bit",
   "language": "python",
   "name": "python3"
  },
  "language_info": {
   "codemirror_mode": {
    "name": "ipython",
    "version": 3
   },
   "file_extension": ".py",
   "mimetype": "text/x-python",
   "name": "python",
   "nbconvert_exporter": "python",
   "pygments_lexer": "ipython3",
   "version": "3.8.1"
  },
  "orig_nbformat": 4,
  "vscode": {
   "interpreter": {
    "hash": "865d8b2eb28e274047ba64063dfb6a2aabf0dfec4905d304d7a76618dae6fdd4"
   }
  }
 },
 "nbformat": 4,
 "nbformat_minor": 2
}
