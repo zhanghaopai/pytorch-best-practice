{
 "cells": [
  {
   "cell_type": "markdown",
   "metadata": {},
   "source": [
    "# 数据集准备及预处理"
   ]
  },
  {
   "cell_type": "code",
   "execution_count": 1,
   "metadata": {},
   "outputs": [
    {
     "name": "stdout",
     "output_type": "stream",
     "text": [
      "1.13.1+cpu\n"
     ]
    }
   ],
   "source": [
    "import torch\n",
    "print(torch.__version__)"
   ]
  },
  {
   "cell_type": "code",
   "execution_count": 2,
   "metadata": {},
   "outputs": [
    {
     "name": "stderr",
     "output_type": "stream",
     "text": [
      "train-images-idx3-ubyte.gz已经存在.\n",
      "train-labels-idx1-ubyte.gz已经存在.\n",
      "t10k-images-idx3-ubyte.gz已经存在.\n",
      "t10k-labels-idx1-ubyte.gz已经存在.\n"
     ]
    },
    {
     "data": {
      "text/plain": [
       "True"
      ]
     },
     "execution_count": 2,
     "metadata": {},
     "output_type": "execute_result"
    }
   ],
   "source": [
    "\"\"\"\n",
    "下载MNIST数据集脚本\n",
    "\"\"\"\n",
    "\n",
    "import os\n",
    "from pathlib import Path\n",
    "import logging\n",
    "\n",
    "import wget\n",
    "\n",
    "logging.basicConfig(level=logging.INFO, format=\"%(message)s\")\n",
    "\n",
    "\n",
    "def download_minst(save_dir: str = None) -> bool:\n",
    "    \"\"\"下载MNIST数据集\n",
    "    输入参数:\n",
    "        save_dir: MNIST数据集的保存地址. 类型: 字符串.\n",
    "\n",
    "    返回值:\n",
    "        全部下载成功返回True, 否则返回False\n",
    "    \"\"\"\n",
    "    \n",
    "    save_dir = Path(save_dir)\n",
    "    train_set_imgs_addr = save_dir / \"train-images-idx3-ubyte.gz\"\n",
    "    train_set_labels_addr = save_dir / \"train-labels-idx1-ubyte.gz\"\n",
    "    test_set_imgs_addr = save_dir / \"t10k-images-idx3-ubyte.gz\"\n",
    "    test_set_labels_addr = save_dir / \"t10k-labels-idx1-ubyte.gz\"\n",
    "\n",
    "    try:\n",
    "        if not os.path.exists(train_set_imgs_addr):\n",
    "            logging.info(\"下载train-images-idx3-ubyte.gz\")\n",
    "            filename = wget.download(url=\"http://yann.lecun.com/exdb/mnist/train-images-idx3-ubyte.gz\", out=str(train_set_imgs_addr))\n",
    "            logging.info(\"\\tdone.\")\n",
    "        else:\n",
    "            logging.info(\"train-images-idx3-ubyte.gz已经存在.\")\n",
    "\n",
    "        if not os.path.exists(train_set_labels_addr):\n",
    "            logging.info(\"下载train-labels-idx1-ubyte.gz.\")\n",
    "            filename = wget.download(url=\"http://yann.lecun.com/exdb/mnist/train-labels-idx1-ubyte.gz\", out=str(train_set_labels_addr))\n",
    "            logging.info(\"\\tdone.\")\n",
    "        else:\n",
    "            logging.info(\"train-labels-idx1-ubyte.gz已经存在.\")\n",
    "\n",
    "        if not os.path.exists(test_set_imgs_addr):\n",
    "            logging.info(\"下载t10k-images-idx3-ubyte.gz.\")\n",
    "            filename = wget.download(url=\"http://yann.lecun.com/exdb/mnist/t10k-images-idx3-ubyte.gz\", out=str(test_set_imgs_addr))\n",
    "            logging.info(\"\\tdone.\")\n",
    "        else:\n",
    "            logging.info(\"t10k-images-idx3-ubyte.gz已经存在.\")\n",
    "\n",
    "        if not os.path.exists(test_set_labels_addr):\n",
    "            logging.info(\"下载t10k-labels-idx1-ubyte.gz.\")\n",
    "            filename = wget.download(url=\"http://yann.lecun.com/exdb/mnist/t10k-labels-idx1-ubyte.gz\", out=str(test_set_labels_addr))\n",
    "            logging.info(\"\\tdone.\")\n",
    "        else:\n",
    "            logging.info(\"t10k-labels-idx1-ubyte.gz已经存在.\")\n",
    "        \n",
    "    except:\n",
    "        return False\n",
    "    \n",
    "    return True\n",
    "\n",
    "\n",
    "download_minst('./input')\n",
    "\n"
   ]
  },
  {
   "cell_type": "code",
   "execution_count": 3,
   "metadata": {},
   "outputs": [
    {
     "data": {
      "image/png": "[encoded data removed]",
      "text/plain": [
       "<Figure size 648x720 with 9 Axes>"
      ]
     },
     "metadata": {
      "needs_background": "light"
     },
     "output_type": "display_data"
    }
   ],
   "source": [
    "\"\"\"\n",
    "通过gzip和numpy解析MNIST数据集的二进制文件, 并可视化训练集前10张图片和标签\n",
    "\"\"\"\n",
    "\n",
    "import os\n",
    "import gzip\n",
    "import logging\n",
    "\n",
    "import numpy as np\n",
    "import matplotlib.pyplot as plt\n",
    "\n",
    "logging.basicConfig(format=\"%(message)s\", level=logging.DEBUG)  # 设置Python日志管理工具的消息格式和显示级别\n",
    "\n",
    "plt.rcParams[\"font.sans-serif\"] = \"SimHei\"  # 确保plt绘图正常显示中文\n",
    "plt.rcParams[\"figure.figsize\"] = [9, 10]  # 设置plt绘图尺寸\n",
    "\n",
    "def parse_mnist(minst_file_addr: str = None) -> np.array:\n",
    "    \"\"\"解析MNIST二进制文件, 并返回解析结果\n",
    "    输入参数:\n",
    "        minst_file: MNIST数据集的文件地址. 类型: 字符串.\n",
    "\n",
    "    返回值:\n",
    "        解析后的numpy数组\n",
    "    \"\"\"\n",
    "    if minst_file_addr is not None:\n",
    "        minst_file_name = os.path.basename(minst_file_addr)  # 根据地址获取MNIST文件名字\n",
    "        with gzip.open(filename=minst_file_addr, mode=\"rb\") as minst_file:\n",
    "            mnist_file_content = minst_file.read()\n",
    "        if \"label\" in minst_file_name:  # 传入的为标签二进制编码文件地址\n",
    "            data = np.frombuffer(buffer=mnist_file_content, dtype=np.uint8, offset=8)  # MNIST标签文件的前8个字节为描述性内容，直接从第九个字节开始读取标签，并解析\n",
    "        else:  # 传入的为图片二进制编码文件地址\n",
    "            data = np.frombuffer(buffer=mnist_file_content, dtype=np.uint8, offset=16)  # MNIST图片文件的前16个字节为描述性内容，直接从第九个字节开始读取标签，并解析\n",
    "            data = data.reshape(-1, 28, 28)\n",
    "    else:\n",
    "        logging.warning(msg=\"请传入MNIST文件地址!\")\n",
    "\n",
    "    return data\n",
    "\n",
    "\n",
    "if __name__ == \"__main__\":\n",
    "    train_imgs = parse_mnist(minst_file_addr=\"./input/train-images-idx3-ubyte.gz\")  # 训练集图像\n",
    "    train_labels = parse_mnist(minst_file_addr=\"./input/train-labels-idx1-ubyte.gz\")  # 训练集标签\n",
    "    \n",
    "    # 可视化\n",
    "    fig, ax = plt.subplots(ncols=3, nrows=3)\n",
    "    ax[0, 0].imshow(train_imgs[0], cmap=plt.cm.gray)\n",
    "    ax[0, 0].set_title(f\"标签为{train_labels[0]}\")\n",
    "    ax[0, 1].imshow(train_imgs[1], cmap=plt.cm.gray)\n",
    "    ax[0, 1].set_title(f\"标签为{train_labels[1]}\")\n",
    "    ax[0, 2].imshow(train_imgs[2], cmap=plt.cm.gray)\n",
    "    ax[0, 2].set_title(f\"标签为{train_labels[2]}\")\n",
    "    ax[1, 0].imshow(train_imgs[3], cmap=plt.cm.gray)\n",
    "    ax[1, 0].set_title(f\"标签为{train_labels[3]}\")\n",
    "    ax[1, 1].imshow(train_imgs[4], cmap=plt.cm.gray)\n",
    "    ax[1, 1].set_title(f\"标签为{train_labels[4]}\")\n",
    "    ax[1, 2].imshow(train_imgs[5], cmap=plt.cm.gray)\n",
    "    ax[1, 2].set_title(f\"标签为{train_labels[5]}\")\n",
    "    ax[2, 0].imshow(train_imgs[6], cmap=plt.cm.gray)\n",
    "    ax[2, 0].set_title(f\"标签为{train_labels[6]}\")\n",
    "    ax[2, 1].imshow(train_imgs[7], cmap=plt.cm.gray)\n",
    "    ax[2, 1].set_title(f\"标签为{train_labels[7]}\")\n",
    "    ax[2, 2].imshow(train_imgs[8], cmap=plt.cm.gray)\n",
    "    ax[2, 2].set_title(f\"标签为{train_labels[8]}\")\n",
    "    plt.show()  # 显示绘图\n",
    "\n",
    "    # print(plt.rcParams.keys())\n",
    "\n"
   ]
  },
  {
   "cell_type": "code",
   "execution_count": 4,
   "metadata": {},
   "outputs": [
    {
     "name": "stdout",
     "output_type": "stream",
     "text": [
      "(60000, 28, 28)\n",
      "(60000,)\n",
      "[[  0   0   0   0   0   0   0   0   0   0   0   0   0   0   0   0   0   0\n",
      "    0   0   0   0   0   0   0   0   0   0]\n",
      " [  0   0   0   0   0   0   0   0   0   0   0   0   0   0   0   0   0   0\n",
      "    0   0   0   0   0   0   0   0   0   0]\n",
      " [  0   0   0   0   0   0   0   0   0   0   0   0   0   0   0   0   0   0\n",
      "    0   0   0   0   0   0   0   0   0   0]\n",
      " [  0   0   0   0   0   0   0   0   0   0   0   0   0   0   0   0   0   0\n",
      "    0   0   0   0   0   0   0   0   0   0]\n",
      " [  0   0   0   0   0   0   0   0   0   0   0   0   0   0   0   0   0   0\n",
      "    0   0   0   0   0   0   0   0   0   0]\n",
      " [  0   0   0   0   0   0   0   0   0   0   0   0   3  18  18  18 126 136\n",
      "  175  26 166 255 247 127   0   0   0   0]\n",
      " [  0   0   0   0   0   0   0   0  30  36  94 154 170 253 253 253 253 253\n",
      "  225 172 253 242 195  64   0   0   0   0]\n",
      " [  0   0   0   0   0   0   0  49 238 253 253 253 253 253 253 253 253 251\n",
      "   93  82  82  56  39   0   0   0   0   0]\n",
      " [  0   0   0   0   0   0   0  18 219 253 253 253 253 253 198 182 247 241\n",
      "    0   0   0   0   0   0   0   0   0   0]\n",
      " [  0   0   0   0   0   0   0   0  80 156 107 253 253 205  11   0  43 154\n",
      "    0   0   0   0   0   0   0   0   0   0]\n",
      " [  0   0   0   0   0   0   0   0   0  14   1 154 253  90   0   0   0   0\n",
      "    0   0   0   0   0   0   0   0   0   0]\n",
      " [  0   0   0   0   0   0   0   0   0   0   0 139 253 190   2   0   0   0\n",
      "    0   0   0   0   0   0   0   0   0   0]\n",
      " [  0   0   0   0   0   0   0   0   0   0   0  11 190 253  70   0   0   0\n",
      "    0   0   0   0   0   0   0   0   0   0]\n",
      " [  0   0   0   0   0   0   0   0   0   0   0   0  35 241 225 160 108   1\n",
      "    0   0   0   0   0   0   0   0   0   0]\n",
      " [  0   0   0   0   0   0   0   0   0   0   0   0   0  81 240 253 253 119\n",
      "   25   0   0   0   0   0   0   0   0   0]\n",
      " [  0   0   0   0   0   0   0   0   0   0   0   0   0   0  45 186 253 253\n",
      "  150  27   0   0   0   0   0   0   0   0]\n",
      " [  0   0   0   0   0   0   0   0   0   0   0   0   0   0   0  16  93 252\n",
      "  253 187   0   0   0   0   0   0   0   0]\n",
      " [  0   0   0   0   0   0   0   0   0   0   0   0   0   0   0   0   0 249\n",
      "  253 249  64   0   0   0   0   0   0   0]\n",
      " [  0   0   0   0   0   0   0   0   0   0   0   0   0   0  46 130 183 253\n",
      "  253 207   2   0   0   0   0   0   0   0]\n",
      " [  0   0   0   0   0   0   0   0   0   0   0   0  39 148 229 253 253 253\n",
      "  250 182   0   0   0   0   0   0   0   0]\n",
      " [  0   0   0   0   0   0   0   0   0   0  24 114 221 253 253 253 253 201\n",
      "   78   0   0   0   0   0   0   0   0   0]\n",
      " [  0   0   0   0   0   0   0   0  23  66 213 253 253 253 253 198  81   2\n",
      "    0   0   0   0   0   0   0   0   0   0]\n",
      " [  0   0   0   0   0   0  18 171 219 253 253 253 253 195  80   9   0   0\n",
      "    0   0   0   0   0   0   0   0   0   0]\n",
      " [  0   0   0   0  55 172 226 253 253 253 253 244 133  11   0   0   0   0\n",
      "    0   0   0   0   0   0   0   0   0   0]\n",
      " [  0   0   0   0 136 253 253 253 212 135 132  16   0   0   0   0   0   0\n",
      "    0   0   0   0   0   0   0   0   0   0]\n",
      " [  0   0   0   0   0   0   0   0   0   0   0   0   0   0   0   0   0   0\n",
      "    0   0   0   0   0   0   0   0   0   0]\n",
      " [  0   0   0   0   0   0   0   0   0   0   0   0   0   0   0   0   0   0\n",
      "    0   0   0   0   0   0   0   0   0   0]\n",
      " [  0   0   0   0   0   0   0   0   0   0   0   0   0   0   0   0   0   0\n",
      "    0   0   0   0   0   0   0   0   0   0]]\n"
     ]
    }
   ],
   "source": [
    "print(train_imgs.shape)\n",
    "print(train_labels.shape)\n",
    "print(train_imgs[0])"
   ]
  },
  {
   "cell_type": "markdown",
   "metadata": {},
   "source": [
    "# 数据预处理"
   ]
  },
  {
   "cell_type": "code",
   "execution_count": 5,
   "metadata": {},
   "outputs": [
    {
     "name": "stderr",
     "output_type": "stream",
     "text": [
      "C:\\Users\\ZHANGH~1\\AppData\\Local\\Temp/ipykernel_22584/1256590853.py:2: UserWarning: The given NumPy array is not writable, and PyTorch does not support non-writable tensors. This means writing to this tensor will result in undefined behavior. You may want to copy the array to protect its data or make it writable before converting it to a tensor. This type of warning will be suppressed for the rest of this program. (Triggered internally at C:\\actions-runner\\_work\\pytorch\\pytorch\\builder\\windows\\pytorch\\torch\\csrc\\utils\\tensor_numpy.cpp:205.)\n",
      "  x_train,y_train = map(torch.Tensor, (train_imgs, train_labels))\n"
     ]
    },
    {
     "name": "stdout",
     "output_type": "stream",
     "text": [
      "torch.Size([60000, 28, 28])\n",
      "torch.Size([60000])\n",
      "tensor([5., 0., 4., 1., 9., 2., 1., 3., 1., 4.])\n"
     ]
    }
   ],
   "source": [
    "import torch\n",
    "x_train,y_train = map(torch.Tensor, (train_imgs, train_labels))\n",
    "print(x_train.shape)\n",
    "print(y_train.shape)\n",
    "print(y_train[:10])"
   ]
  },
  {
   "cell_type": "markdown",
   "metadata": {},
   "source": [
    "# 模型"
   ]
  },
  {
   "cell_type": "code",
   "execution_count": 63,
   "metadata": {},
   "outputs": [
    {
     "name": "stdout",
     "output_type": "stream",
     "text": [
      "torch.Size([64, 10])\n",
      "torch.float32\n"
     ]
    },
    {
     "data": {
      "text/plain": [
       "tensor(2981.0134, grad_fn=<NllLossBackward0>)"
      ]
     },
     "execution_count": 63,
     "metadata": {},
     "output_type": "execute_result"
    }
   ],
   "source": [
    "# 测试\n",
    "import torch.nn.functional as F\n",
    "\n",
    "# 超参数\n",
    "bs=64\n",
    "input_size=28*28\n",
    "\n",
    "# mini batch\n",
    "xb=x_train[0:bs]\n",
    "yb=y_train[0:bs]\n",
    "\n",
    "# 参数\n",
    "weight=torch.randn([input_size, 10], dtype=torch.float, requires_grad=True)\n",
    "bias=torch.randn(10, requires_grad=True)\n",
    "\n",
    "# 模型\n",
    "def model(xb):\n",
    "    xb=xb.reshape(bs, input_size)\n",
    "    return torch.matmul(xb, weight) + bias\n",
    "\n",
    "\n",
    "\n",
    "y_predict=model(xb)\n",
    "print(y_predict.shape)\n",
    "print(y_predict.dtype)\n",
    "F.cross_entropy(y_predict, yb.long())"
   ]
  }
 ],
 "metadata": {
  "kernelspec": {
   "display_name": "Python 3.8.1 64-bit",
   "language": "python",
   "name": "python3"
  },
  "language_info": {
   "codemirror_mode": {
    "name": "ipython",
    "version": 3
   },
   "file_extension": ".py",
   "mimetype": "text/x-python",
   "name": "python",
   "nbconvert_exporter": "python",
   "pygments_lexer": "ipython3",
   "version": "3.11.5"
  },
  "orig_nbformat": 4,
  "vscode": {
   "interpreter": {
    "hash": "865d8b2eb28e274047ba64063dfb6a2aabf0dfec4905d304d7a76618dae6fdd4"
   }
  }
 },
 "nbformat": 4,
 "nbformat_minor": 2
}
